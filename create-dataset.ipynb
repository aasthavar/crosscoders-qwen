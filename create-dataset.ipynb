{
 "cells": [
  {
   "cell_type": "markdown",
   "metadata": {},
   "source": [
    "### dead code"
   ]
  },
  {
   "cell_type": "code",
   "execution_count": null,
   "metadata": {},
   "outputs": [],
   "source": [
    "# loading_data_first_time = False\n",
    "# if loading_data_first_time:\n",
    "#     raise NotImplementedError(\"This is not implemented yet\")\n",
    "#     data = load_dataset(\n",
    "#         \"NeelNanda/c4-code-tokenized-2b\", split=\"train\", cache_dir=\"/workspace/cache/\"\n",
    "#     )\n",
    "#     data.save_to_disk(\"/workspace/data/c4_code_tokenized_2b.hf\")\n",
    "#     data.set_format(type=\"torch\", columns=[\"tokens\"])\n",
    "#     all_tokens = data[\"tokens\"]\n",
    "#     all_tokens.shape\n",
    "\n",
    "#     all_tokens_reshaped = einops.rearrange(\n",
    "#         all_tokens, \"batch (x seq_len) -> (batch x) seq_len\", x=8, seq_len=128\n",
    "#     )\n",
    "#     all_tokens_reshaped[:, 0] = model.tokenizer.bos_token_id\n",
    "#     all_tokens_reshaped = all_tokens_reshaped[\n",
    "#         torch.randperm(all_tokens_reshaped.shape[0])\n",
    "#     ]\n",
    "#     torch.save(all_tokens_reshaped, \"/workspace/data/c4_code_2b_tokens_reshaped.pt\")\n",
    "# else:\n",
    "#     # data = datasets.load_from_disk(\"/workspace/data/c4_code_tokenized_2b.hf\")\n",
    "#     all_tokens = torch.load(\"/workspace/data/owt_tensor.pt\")\n",
    "#     # all_tokens = all_tokens[: cfg[\"num_tokens\"] // cfg[\"seq_len\"]]\n",
    "#     # all_tokens = shuffle_data(all_tokens)"
   ]
  },
  {
   "cell_type": "markdown",
   "metadata": {},
   "source": [
    "### connor's dataset"
   ]
  },
  {
   "cell_type": "code",
   "execution_count": null,
   "metadata": {},
   "outputs": [],
   "source": [
    "from datasets import load_from_disk\n",
    "\n",
    "tokenized_data = load_from_disk(\"data/pile-lmsys-mix-1m-tokenized-gemma-2.hf\")\n",
    "tokenized_data # num_rows = 963,566"
   ]
  },
  {
   "cell_type": "code",
   "execution_count": null,
   "metadata": {},
   "outputs": [],
   "source": [
    "len(tokenized_data[0][\"input_ids\"])"
   ]
  },
  {
   "cell_type": "code",
   "execution_count": null,
   "metadata": {},
   "outputs": [],
   "source": [
    "963566*1024 # 986_691_584"
   ]
  },
  {
   "cell_type": "markdown",
   "metadata": {},
   "source": [
    "### new dataset\n",
    "\n",
    "- lmsys/lmsys-chat-1m\n",
    "- monology/pile-uncopyrighted"
   ]
  },
  {
   "cell_type": "code",
   "execution_count": 1,
   "metadata": {},
   "outputs": [
    {
     "name": "stderr",
     "output_type": "stream",
     "text": [
      "/home/ubuntu/miniconda3/envs/crosscoders_p312/lib/python3.12/site-packages/tqdm/auto.py:21: TqdmWarning: IProgress not found. Please update jupyter and ipywidgets. See https://ipywidgets.readthedocs.io/en/stable/user_install.html\n",
      "  from .autonotebook import tqdm as notebook_tqdm\n"
     ]
    },
    {
     "name": "stdout",
     "output_type": "stream",
     "text": [
      "🦥 Unsloth: Will patch your computer to enable 2x faster free finetuning.\n",
      "🦥 Unsloth Zoo will now patch everything to make training faster!\n"
     ]
    }
   ],
   "source": [
    "import torch\n",
    "from pprint import pprint\n",
    "from datasets import load_dataset\n",
    "from unsloth.chat_templates import get_chat_template\n",
    "from transformer_lens import utils, HookedTransformer"
   ]
  },
  {
   "cell_type": "code",
   "execution_count": 2,
   "metadata": {},
   "outputs": [],
   "source": [
    "!pip install transformer_lens --quiet --upgrade"
   ]
  },
  {
   "cell_type": "code",
   "execution_count": 3,
   "metadata": {},
   "outputs": [],
   "source": [
    "base_model_id = \"Qwen/Qwen2.5-0.5B\"\n",
    "# instruct_model_id = \"Qwen/Qwen2.5-0.5B-Instruct\"\n",
    "tokenizer_chat_template = \"qwen-2.5\"\n",
    "tokens_max_len = 1024\n",
    "\n",
    "DTYPES = {\"fp32\": torch.float32, \"fp16\": torch.float16, \"bf16\": torch.bfloat16}"
   ]
  },
  {
   "cell_type": "code",
   "execution_count": 4,
   "metadata": {},
   "outputs": [
    {
     "name": "stderr",
     "output_type": "stream",
     "text": [
      "Sliding Window Attention is enabled but not implemented for `sdpa`; unexpected results may be encountered.\n",
      "WARNING:root:You are not using LayerNorm, so the writing weights can't be centered! Skipping\n"
     ]
    },
    {
     "name": "stdout",
     "output_type": "stream",
     "text": [
      "Loaded pretrained model Qwen/Qwen2.5-0.5B into HookedTransformer\n",
      "Changing model dtype to torch.float32\n",
      "n_layers: 24\n",
      "d_model: 896\n",
      "n_heads: 14\n",
      "d_head: 64\n",
      "d_mlp: 4864\n",
      "d_vocab: 151936\n"
     ]
    }
   ],
   "source": [
    "model = HookedTransformer.from_pretrained(base_model_id).to(DTYPES[\"fp32\"])\n",
    "\n",
    "n_layers = model.cfg.n_layers\n",
    "d_model = model.cfg.d_model\n",
    "n_heads = model.cfg.n_heads\n",
    "d_head = model.cfg.d_head\n",
    "d_mlp = model.cfg.d_mlp\n",
    "d_vocab = model.cfg.d_vocab\n",
    "\n",
    "print(f\"n_layers: {n_layers}\")\n",
    "print(f\"d_model: {d_model}\")\n",
    "print(f\"n_heads: {n_heads}\")\n",
    "print(f\"d_head: {d_head}\")\n",
    "print(f\"d_mlp: {d_mlp}\")\n",
    "print(f\"d_vocab: {d_vocab}\")"
   ]
  },
  {
   "cell_type": "markdown",
   "metadata": {},
   "source": [
    "#### lmsys"
   ]
  },
  {
   "cell_type": "code",
   "execution_count": 5,
   "metadata": {},
   "outputs": [],
   "source": [
    "# in the blog but i didn't use this\n",
    "# \"\"\"User: {instruction}\n",
    "# Assistant: {completion}\n",
    "# \"\"\""
   ]
  },
  {
   "cell_type": "code",
   "execution_count": 6,
   "metadata": {},
   "outputs": [
    {
     "data": {
      "text/plain": [
       "Dataset({\n",
       "    features: ['conversation_id', 'model', 'conversation', 'turn', 'language', 'openai_moderation', 'redacted'],\n",
       "    num_rows: 1000000\n",
       "})"
      ]
     },
     "execution_count": 6,
     "metadata": {},
     "output_type": "execute_result"
    }
   ],
   "source": [
    "lmsys = load_dataset(\n",
    "    \"lmsys/lmsys-chat-1m\", \n",
    "    # split=\"train[:500000]\"\n",
    "    split=\"train\"\n",
    ")\n",
    "lmsys"
   ]
  },
  {
   "cell_type": "code",
   "execution_count": 7,
   "metadata": {},
   "outputs": [
    {
     "name": "stdout",
     "output_type": "stream",
     "text": [
      "Model does not have a padding token! Will use pad_token = <|vision_pad|>.\n"
     ]
    },
    {
     "name": "stderr",
     "output_type": "stream",
     "text": [
      "Map: 100%|██████████| 1000000/1000000 [01:28<00:00, 11243.37 examples/s]\n"
     ]
    },
    {
     "data": {
      "text/plain": [
       "Dataset({\n",
       "    features: ['conversation_id', 'model', 'conversation', 'turn', 'language', 'openai_moderation', 'redacted', 'text'],\n",
       "    num_rows: 1000000\n",
       "})"
      ]
     },
     "execution_count": 7,
     "metadata": {},
     "output_type": "execute_result"
    }
   ],
   "source": [
    "tokenizer = get_chat_template(\n",
    "    model.tokenizer,\n",
    "    chat_template=tokenizer_chat_template,\n",
    ")\n",
    "\n",
    "def formatting_prompts_func(examples):\n",
    "    convos = examples[\"conversation\"]\n",
    "    texts = [\n",
    "        tokenizer.apply_chat_template(\n",
    "            convo, \n",
    "            tokenize=False, \n",
    "            add_generation_prompt=False\n",
    "        ) \n",
    "        for convo in convos\n",
    "    ]\n",
    "    return { \"text\" : texts }\n",
    "\n",
    "lmsys = lmsys.map(formatting_prompts_func, batched=True)\n",
    "lmsys"
   ]
  },
  {
   "cell_type": "code",
   "execution_count": 8,
   "metadata": {},
   "outputs": [
    {
     "name": "stderr",
     "output_type": "stream",
     "text": [
      "Map (num_proc=10): 100%|██████████| 1000000/1000000 [04:06<00:00, 4059.63 examples/s]\n"
     ]
    },
    {
     "data": {
      "text/plain": [
       "Dataset({\n",
       "    features: ['tokens'],\n",
       "    num_rows: 521429\n",
       "})"
      ]
     },
     "execution_count": 8,
     "metadata": {},
     "output_type": "execute_result"
    }
   ],
   "source": [
    "tokenized_lmsys = utils.tokenize_and_concatenate(\n",
    "    dataset=lmsys, \n",
    "    tokenizer=model.tokenizer,\n",
    "    max_length=tokens_max_len,\n",
    "    add_bos_token=False,\n",
    ")\n",
    "tokenized_lmsys"
   ]
  },
  {
   "cell_type": "markdown",
   "metadata": {},
   "source": [
    "#### pile"
   ]
  },
  {
   "cell_type": "code",
   "execution_count": 9,
   "metadata": {},
   "outputs": [
    {
     "name": "stderr",
     "output_type": "stream",
     "text": [
      "Downloading readme: 100%|██████████| 373/373 [00:00<00:00, 3.52kB/s]\n",
      "Downloading metadata: 100%|██████████| 921/921 [00:00<00:00, 9.71kB/s]"
     ]
    },
    {
     "name": "stdout",
     "output_type": "stream",
     "text": [
      "Dataset({\n",
      "    features: ['text', 'meta'],\n",
      "    num_rows: 10000\n",
      "})\n"
     ]
    },
    {
     "name": "stderr",
     "output_type": "stream",
     "text": [
      "\n"
     ]
    }
   ],
   "source": [
    "# pile = load_dataset(\"monology/pile-uncopyrighted\", split=\"train[:500000]\", trust_remote_code=True)\n",
    "pile = load_dataset(\n",
    "    \"NeelNanda/pile-10k\", \n",
    "    split=\"train\", \n",
    "    trust_remote_code=True\n",
    ")\n",
    "print(pile)"
   ]
  },
  {
   "cell_type": "code",
   "execution_count": 10,
   "metadata": {},
   "outputs": [
    {
     "name": "stdout",
     "output_type": "stream",
     "text": [
      "It is done, and submitted. You can play “Survival of the Tastiest” on Android, and on the web. Playing on the web works, but you have to simulate multi-touch for table moving and that can be a bit confusing.\n",
      "\n",
      "There’s a lot I’d like to talk about. I’ll go through every topic, insted of making the typical what went right/wrong list.\n",
      "\n",
      "Concept\n",
      "\n",
      "Working over the theme was probably one of the hardest tasks I had to face.\n",
      "\n",
      "Originally, I had an idea of what kind of game I wanted to develop, gameplay wise – something with lots of enemies/actors, simple graphics, maybe set in space, controlled from a top-down view. I was confident I could fit any theme around it.\n",
      "\n",
      "In the end, the problem with a theme like “Evolution” in a game is that evolution is unassisted. It happens through several seemingly random mutations over time, with the most apt permutation surviving. This genetic car simulator is, in my opinion, a great example of actual evolution of a species facing a challenge. But is it a game?\n",
      "\n",
      "In a game, you need to control something to reach an objective. That control goes against what evolution is supposed to be like. If you allow the user to pick how to evolve something, it’s not evolution anymore – it’s the equivalent of intelligent design, the fable invented by creationists to combat the very idea of evolution. Being agnostic and a Pastafarian, that’s not something that rubbed me the right way.\n",
      "\n",
      "Hence, my biggest dillema when deciding what to create was not with what I wanted to create, but with what I did not. I didn’t want to create an “intelligent design” simulator and wrongly call it evolution.\n",
      "\n",
      "This is a problem, of course, every other contestant also had to face. And judging by the entries submitted, not many managed to work around it. I’d say the only real solution was through the use of artificial selection, somehow. So far, I haven’t seen any entry using this at its core gameplay.\n",
      "\n",
      "Alas, this is just a fun competition and after a while I decided not to be as strict with the game idea, and allowed myself to pick whatever I thought would work out.\n",
      "\n",
      "My initial idea was to create something where humanity tried to evolve to a next level but had some kind of foe trying to stop them from doing so. I kind of had this image of human souls flying in space towards a monolith or a space baby (all based in 2001: A Space Odyssey of course) but I couldn’t think of compelling (read: serious) mechanics for that.\n",
      "\n",
      "Borgs were my next inspiration, as their whole hypothesis fit pretty well into the evolution theme. But how to make it work? Are you the borg, or fighting the Borg?\n",
      "\n",
      "The third and final idea came to me through my girlfriend, who somehow gave me the idea of making something about the evolution of Pasta. The more I thought about it the more it sounded like it would work, so I decided to go with it.\n",
      "\n",
      "Conversations with my inspiring co-worker Roushey (who also created the “Mechanical Underdogs” signature logo for my intros) further matured the concept, as it involved into the idea of having individual pieces of pasta flying around and trying to evolve until they became all-powerful. A secondary idea here was that the game would work to explain how the Flying Spaghetti Monster came to exist – by evolving from a normal dinner table.\n",
      "\n",
      "So the idea evolved more or less into this: you are sitting a table. You have your own plate, with is your “base”. There are 5 other guests at the table, each with their own plate.\n",
      "\n",
      "Your plate can spawn little pieces of pasta. You do so by “ordering” them through a menu. Some pastas are better than others; some are faster, some are stronger. They have varying costs, which are debited from your credits (you start with a number of credits).\n",
      "\n",
      "Once spawned, your pastas start flying around. Their instinct is to fly to other plates, in order to conquer them (the objective of the game is having your pasta conquer all the plates on the table). But they are really autonomous, so after being spawned, you have no control over your pasta (think DotA or LoL creeps).\n",
      "\n",
      "Your pasta doesn’t like other people’s pasta, so if they meet, they shoot sauce at each other until one dies. You get credits for other pastas your own pasta kill.\n",
      "\n",
      "Once a pasta is in the vicinity of a plate, it starts conquering it for its team. It takes around 10 seconds for a plate to be conquered; less if more pasta from the same team are around. If pasta from other team are around, though, they get locked down in their attempt, unable to conquer the plate, until one of them die (think Battlefield’s standard “Conquest” mode).\n",
      "\n",
      "You get points every second for every plate you own.\n",
      "\n",
      "Over time, the concept also evolved to use an Italian bistro as its main scenario.\n",
      "\n",
      "Carlos, Carlos’ Bistro’s founder and owner\n",
      "\n",
      "Setup\n",
      "\n",
      "No major changes were made from my work setup. I used FDT and Starling creating an Adobe AIR (ActionScript) project, all tools or frameworks I already had some knowledge with.\n",
      "\n",
      "One big change for me was that I livestreamed my work through a twitch.tv account. This was a new thing for me. As recommended by Roushey, I used a program called XSplit and I got to say, it is pretty amazing. It made the livestream pretty effortless and the features are awesome, even for the free version. It was great to have some of my friends watch me, and then interact with them and random people through chat. It was also good knowing that I was also recording a local version of the files, so I could make a timelapse video later.\n",
      "\n",
      "Knowing the video was being recorded also made me a lot more self-conscious about my computer use, as if someone was watching over my shoulder. It made me realize that sometimes I spend too much time in seemingly inane tasks (I ended up wasting the longest time just to get some text alignment the way I wanted – it’ll probably drive someone crazy if they watch it) and that I do way too many typos where writing code. I pretty much spend half of the time writing a line and the other half fixing the crazy characters in it.\n",
      "\n",
      "My own stream was probably boring to watch since I was coding for the most time. But livestreaming is one of the cool things to do as a spectator too. It was great seeing other people working – I had a few tabs opened on my second monitor all the time. It’s actually a bit sad, because if I could, I could have spent the whole weekend just watching other people working! But I had to do my own work, so I’d only do it once in a while, when resting for a bit.\n",
      "\n",
      "Design\n",
      "\n",
      "Although I wanted some simple, low-fi, high-contrast kind of design, I ended up going with somewhat realistic (vector) art. I think it worked very well, fitting the mood of the game, but I also went overboard.\n",
      "\n",
      "For example: to know the state of a plate (who owns it, who’s conquering it and how much time they have left before conquering it, which pasta units are in the queue, etc), you have to look at the plate’s bill.\n",
      "\n",
      "The problem I realized when doing some tests is that people never look at the bill! They think it’s some kind of prop, so they never actually read its details.\n",
      "\n",
      "Plus, if you’re zoomed out too much, you can’t actually read it, so it’s hard to know what’s going on with the game until you zoom in to the area of a specific plate.\n",
      "\n",
      "One other solution that didn’t turn out to be as perfect as I thought was how to indicate who a plate base belongs to. In the game, that’s indicated by the plate’s decoration – its color denotes the team owner. But it’s something that fits so well into the design that people never realized it, until they were told about it.\n",
      "\n",
      "In the end, the idea of going with a full physical metaphor is one that should be done with care. Things that are very important risk becoming background noise, unless the player knows its importance.\n",
      "\n",
      "Originally, I wanted to avoid any kind of heads-up display in my game. In the end, I ended up adding it at the bottom to indicate your credits and bases owned, as well as the hideous out-of-place-and-still-not-obvious “Call Waiter” button. But in hindsight, I should have gone with a simple HUD from the start, especially one that indicated each team’s colors and general state of the game without the need for zooming in and out.\n",
      "\n",
      "Development\n",
      "\n",
      "Development went fast. But not fast enough.\n",
      "\n",
      "Even though I worked around 32+ hours for this Ludum Dare, the biggest problem I had to face in the end was overscoping. I had too much planned, and couldn’t get it all done.\n",
      "\n",
      "Content-wise, I had several kinds of pasta planned (Wikipedia is just amazing in that regard), split into several different groups, from small Pastina to huge Pasta al forno. But because of time constraints, I ended up scratching most of them, and ended up with 5 different types of very small pasta – barely something to start when talking about the evolution of Pasta.\n",
      "\n",
      "Pastas used in the game. Unfortunately, the macs where never used\n",
      "\n",
      "Which is one of the saddest things about the project, really. It had the framework and the features to allow an endless number of elements in there, but I just didn’t have time to draw the rest of the assets needed (something I loved to do, by the way).\n",
      "\n",
      "Other non-obvious features had to be dropped, too. For example, when ordering some pasta, you were supposed to select what kind of sauce you’d like with your pasta, each with different attributes. Bolognese, for example, is very strong, but inaccurate; Pesto is very accurate and has great range, but it’s weaker; and my favorite, Vodka, would triggers 10% loss of speed on the pasta hit by it.\n",
      "\n",
      "The code for that is mostly in there. But in the end, I didn’t have time to implement the sauce selection interface; all pasta ended up using bolognese sauce.\n",
      "\n",
      "To-do list: lots of things were not done\n",
      "\n",
      "Actual programming also took a toll in the development time. Having been programming for a while, I like to believe I got to a point where I know how to make things right, but at the expense of forgetting how to do things wrong in a seemingly good way. What I mean is that I had to take a lot of shortcuts in my code to save time (e.g. a lot of singletons references for cross-communication rather than events or observers, all-encompassing check loops, not fast enough) that left a very sour taste in my mouth. While I know I used to do those a few years ago and survive, I almost cannot accept the state my code is in right now.\n",
      "\n",
      "At the same time, I do know it was the right thing to do given the timeframe.\n",
      "\n",
      "One small thing that had some impact was using a somewhat new platform for me. That’s Starling, the accelerated graphics framework I used in Flash. I had tested it before and I knew how to use it well – the API is very similar to Flash itself. However, there were some small details that had some impact during development, making me feel somewhat uneasy the whole time I was writing the game. It was, again, the right thing to do, but I should have used Starling more deeply before (which is the conundrum: I used it for Ludum Dare just so I could learn more about it).\n",
      "\n",
      "Argument and user experience\n",
      "\n",
      "One final aspect of the game that I learned is that making the game obvious for your players goes a long way into making it fun. If you have to spend the longest time explaining things, your game is doing something wrong.\n",
      "\n",
      "And that’s exactly the problem Survival of the Tastiest ultimately faced. It’s very hard for people to understand what’s going on with the game, why, and how. I did have some introductory text at the beginning, but that was a last-minute thing. More importantly, I should have had a better interface or simplified the whole concept so it would be easier for people to understand.\n",
      "\n",
      "That doesn’t mean the game itself should be simple. It just means that the experience and interface should be approachable and understandable.\n",
      "\n",
      "Conclusion\n",
      "\n",
      "I’m extremely happy with what I’ve done and, especially given that this was my first Ludum Dare. However, I feel like I’ve learned a lot of what not to do.\n",
      "\n",
      "The biggest problem is overscoping. Like Eric Decker said, the biggest lesson we can learn with this is probably with scoping – deciding what to do beforehand in a way you can complete it without having to rush and do something half-assed.\n",
      "\n",
      "I’m sure I will do more Ludum Dares in the future. But if there are any lessons I can take of it, they are to make it simple, to use frameworks and platforms you already have some absolute experience with (otherwise you’ll spend too much time trying to solve easy questions), and to scope for a game that you can complete in one day only (that way, you can actually take two days and make it cool).\n",
      "\n",
      "This entry was posted\n",
      "on Monday, August 27th, 2012 at 10:54 am and is filed under LD #24.\n",
      "You can follow any responses to this entry through the RSS 2.0 feed.\n",
      "You can skip to the end and leave a response. Pinging is currently not allowed.\n",
      "\n",
      "3 Responses to ““Survival of the Tastiest” Post-mortem”\n",
      "\n",
      "darn it , knowing that I missed your livestream makes me a sad panda ;( but more to the point, the game is … well for a startup its original to say the least ;D it has some really neat ideas and more importantly its designed arround touch screens whitch by the looks of the submission is something rare ;o or that could be just me and my short memory -_-! awesum game, love et <3\n"
     ]
    }
   ],
   "source": [
    "print(pile[0][\"text\"])"
   ]
  },
  {
   "cell_type": "code",
   "execution_count": 11,
   "metadata": {},
   "outputs": [
    {
     "name": "stderr",
     "output_type": "stream",
     "text": [
      "Map (num_proc=10): 100%|██████████| 10000/10000 [00:11<00:00, 859.01 examples/s]\n"
     ]
    },
    {
     "data": {
      "text/plain": [
       "Dataset({\n",
       "    features: ['tokens'],\n",
       "    num_rows: 15036\n",
       "})"
      ]
     },
     "execution_count": 11,
     "metadata": {},
     "output_type": "execute_result"
    }
   ],
   "source": [
    "tokenized_pile = utils.tokenize_and_concatenate(\n",
    "    dataset=pile, \n",
    "    tokenizer=model.tokenizer,\n",
    "    max_length=tokens_max_len,\n",
    "    add_bos_token=False,\n",
    ")\n",
    "tokenized_pile\n"
   ]
  },
  {
   "cell_type": "markdown",
   "metadata": {},
   "source": [
    "#### concatenate, save to disk and push to hub"
   ]
  },
  {
   "cell_type": "code",
   "execution_count": 12,
   "metadata": {},
   "outputs": [
    {
     "data": {
      "text/plain": [
       "Dataset({\n",
       "    features: ['tokens'],\n",
       "    num_rows: 536465\n",
       "})"
      ]
     },
     "execution_count": 12,
     "metadata": {},
     "output_type": "execute_result"
    }
   ],
   "source": [
    "from datasets import concatenate_datasets\n",
    "\n",
    "tokenized_data = concatenate_datasets([tokenized_lmsys, tokenized_pile])\n",
    "\n",
    "tokenized_data = tokenized_data.shuffle(42)\n",
    "tokenized_data"
   ]
  },
  {
   "cell_type": "code",
   "execution_count": 13,
   "metadata": {},
   "outputs": [],
   "source": [
    "tokenized_data = tokenized_data.rename_column(\n",
    "    original_column_name=\"tokens\",\n",
    "    new_column_name=\"input_ids\",\n",
    ")"
   ]
  },
  {
   "cell_type": "code",
   "execution_count": 14,
   "metadata": {},
   "outputs": [
    {
     "data": {
      "text/plain": [
       "Dataset({\n",
       "    features: ['input_ids'],\n",
       "    num_rows: 536465\n",
       "})"
      ]
     },
     "execution_count": 14,
     "metadata": {},
     "output_type": "execute_result"
    }
   ],
   "source": [
    "tokenized_data"
   ]
  },
  {
   "cell_type": "code",
   "execution_count": 15,
   "metadata": {},
   "outputs": [
    {
     "name": "stderr",
     "output_type": "stream",
     "text": [
      "Saving the dataset (9/9 shards): 100%|██████████| 536465/536465 [00:04<00:00, 112533.98 examples/s]\n"
     ]
    },
    {
     "name": "stdout",
     "output_type": "stream",
     "text": [
      "torch.Size([536465, 1024])\n",
      "Saved tokens to disk\n"
     ]
    }
   ],
   "source": [
    "# save tokens to disk\n",
    "\n",
    "dataset_path = \"data/pile-lmsys-mix-500k-tokenized-qwen2x5\"\n",
    "# dataset_path = \"data/pile-lmsys-mix-300k-tokenized-qwen2x5\"\n",
    "\n",
    "tokenized_data.save_to_disk(f\"{dataset_path}.hf\")\n",
    "\n",
    "tokenized_data.set_format(type=\"torch\", columns=[\"input_ids\"])\n",
    "all_tokens = tokenized_data[\"input_ids\"]\n",
    "print(all_tokens.shape)\n",
    "\n",
    "torch.save(all_tokens, f\"{dataset_path}.pt\")\n",
    "print(f\"Saved tokens to disk\")"
   ]
  },
  {
   "cell_type": "code",
   "execution_count": null,
   "metadata": {},
   "outputs": [
    {
     "data": {
      "text/plain": [
       "549340160"
      ]
     },
     "execution_count": 16,
     "metadata": {},
     "output_type": "execute_result"
    }
   ],
   "source": [
    "# tokens = 277699*1024  # 284_363_776\n",
    "# 536465*1024 # 549_340_160"
   ]
  },
  {
   "cell_type": "code",
   "execution_count": 17,
   "metadata": {},
   "outputs": [
    {
     "name": "stderr",
     "output_type": "stream",
     "text": [
      "Creating parquet from Arrow format: 100%|██████████| 60/60 [00:02<00:00, 24.30ba/s]\n",
      "Creating parquet from Arrow format: 100%|██████████| 60/60 [00:02<00:00, 24.08ba/s]\n",
      "Creating parquet from Arrow format: 100%|██████████| 60/60 [00:02<00:00, 24.46ba/s]\n",
      "Creating parquet from Arrow format: 100%|██████████| 60/60 [00:02<00:00, 24.25ba/s]\n",
      "Creating parquet from Arrow format: 100%|██████████| 60/60 [00:02<00:00, 24.01ba/s]\n",
      "Creating parquet from Arrow format: 100%|██████████| 60/60 [00:02<00:00, 24.55ba/s]\n",
      "Creating parquet from Arrow format: 100%|██████████| 60/60 [00:02<00:00, 24.88ba/s]\n",
      "Creating parquet from Arrow format: 100%|██████████| 60/60 [00:02<00:00, 24.62ba/s]\n",
      "Creating parquet from Arrow format: 100%|██████████| 60/60 [00:02<00:00, 24.53ba/s]\n",
      "Uploading the dataset shards: 100%|██████████| 9/9 [00:55<00:00,  6.12s/it]\n"
     ]
    },
    {
     "data": {
      "text/plain": [
       "CommitInfo(commit_url='https://huggingface.co/datasets/aastha6/pile-lmsys-mix-500k-tokenized-qwen2.5/commit/7833593f7d52e72994ea5c4263feedf653a709e2', commit_message='Upload dataset', commit_description='', oid='7833593f7d52e72994ea5c4263feedf653a709e2', pr_url=None, repo_url=RepoUrl('https://huggingface.co/datasets/aastha6/pile-lmsys-mix-500k-tokenized-qwen2.5', endpoint='https://huggingface.co', repo_type='dataset', repo_id='aastha6/pile-lmsys-mix-500k-tokenized-qwen2.5'), pr_revision=None, pr_num=None)"
      ]
     },
     "execution_count": 17,
     "metadata": {},
     "output_type": "execute_result"
    }
   ],
   "source": [
    "# push data to hub\n",
    "dataset_id = \"aastha6/pile-lmsys-mix-500k-tokenized-qwen2.5\"\n",
    "# dataset_id = \"aastha6/pile-lmsys-mix-300k-tokenized-qwen2.5\"\n",
    "tokenized_data.push_to_hub(dataset_id, private=False)"
   ]
  },
  {
   "cell_type": "code",
   "execution_count": null,
   "metadata": {},
   "outputs": [],
   "source": [
    "# CommitInfo(commit_url='https://huggingface.co/datasets/aastha6/pile-lmsys-mix-300k-tokenized-qwen2.5/commit/7a12968c732ed4e4519e03b4bafc1f5ac31efba5', commit_message='Upload dataset', commit_description='', oid='7a12968c732ed4e4519e03b4bafc1f5ac31efba5', pr_url=None, repo_url=RepoUrl('https://huggingface.co/datasets/aastha6/pile-lmsys-mix-300k-tokenized-qwen2.5', endpoint='https://huggingface.co', repo_type='dataset', repo_id='aastha6/pile-lmsys-mix-300k-tokenized-qwen2.5'), pr_revision=None, pr_num=None)"
   ]
  }
 ],
 "metadata": {
  "kernelspec": {
   "display_name": "crosscoders_p312",
   "language": "python",
   "name": "python3"
  },
  "language_info": {
   "codemirror_mode": {
    "name": "ipython",
    "version": 3
   },
   "file_extension": ".py",
   "mimetype": "text/x-python",
   "name": "python",
   "nbconvert_exporter": "python",
   "pygments_lexer": "ipython3",
   "version": "3.12.9"
  }
 },
 "nbformat": 4,
 "nbformat_minor": 2
}
